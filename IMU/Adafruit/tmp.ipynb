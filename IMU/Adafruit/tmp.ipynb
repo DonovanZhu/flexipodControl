{
 "cells": [
  {
   "cell_type": "code",
   "execution_count": 79,
   "metadata": {},
   "outputs": [
    {
     "name": "stdout",
     "output_type": "stream",
     "text": [
      "acc_offset =\n",
      " {-0.0244822 , 0.11027965, 0.13732355};\n",
      "acc_transform = \n",
      "{{ 1.00579264,-0.01630045,-0.00690864},\n",
      " { 0.0103163 , 0.98831095, 0.01014998},\n",
      " { 0.00322683, 0.00377961, 0.99308401}};\n"
     ]
    }
   ],
   "source": [
    "import numpy as np\n",
    "\n",
    "# [x,-x,y,-y,z,-z]\n",
    "accel_raw = np.array([\n",
    "    [9.7172193,  0.0089138,  0.1060556], # x at g direction\n",
    "    [-9.7661837,  0.0924105,  0.0337952],# x at -g direction\n",
    "    [0.1359371, 10.0249056,  0.0990679],# y at g direction\n",
    "    [-0.1124700, -9.8043463, -0.0032180],# y at -g direction\n",
    "    [0.0416488,  0.0082404, 10.0057457],# z at g direction\n",
    "    [-0.0435931,  0.0858938, -9.7310986]# z at -g direction\n",
    "]).T # transpose to column vetor\n",
    "\n",
    "gravity_scalar = 9.8 #[m/s^2]\n",
    "\n",
    "############################\n",
    "g_xyz = accel_raw[:,::2]\n",
    "g_neg_xyz = accel_raw[:,1::2]\n",
    "acc_offset = np.diag((g_xyz+g_neg_xyz)/2)[:,np.newaxis]\n",
    "g_mat = np.eye(3)* gravity_scalar\n",
    "# acc transform matrix\n",
    "acc_transform = g_mat@np.linalg.inv(g_xyz - acc_offset)\n",
    "\n",
    "def cStyleStr(arr:np.ndarray):\n",
    "    return np.array2string(arr,separator=\",\").replace('[', '{').replace(']', '}')+\";\"\n",
    "\n",
    "with np.printoptions(precision=8,suppress=True,linewidth=np.inf):\n",
    "#     print(f\"g_xyz =\\n {g_xyz}\")\n",
    "    print(f\"acc_offset =\\n {cStyleStr(acc_offset.ravel())}\")\n",
    "#     print(f\"g_mat =\\n {g_mat}\")\n",
    "    print(f\"acc_transform = \\n{cStyleStr(acc_transform)}\")\n",
    "#     print(f\"acc_transform =\\n {repr(acc_transform)}\")\n",
    "#     print(f\"acc_transform =\\n {repr(acc_transform.ravel())}\")"
   ]
  }
 ],
 "metadata": {
  "kernelspec": {
   "display_name": "Python 3",
   "language": "python",
   "name": "python3"
  },
  "language_info": {
   "codemirror_mode": {
    "name": "ipython",
    "version": 3
   },
   "file_extension": ".py",
   "mimetype": "text/x-python",
   "name": "python",
   "nbconvert_exporter": "python",
   "pygments_lexer": "ipython3",
   "version": "3.8.6"
  }
 },
 "nbformat": 4,
 "nbformat_minor": 4
}
